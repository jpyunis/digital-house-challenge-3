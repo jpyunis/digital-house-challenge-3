{
 "cells": [
  {
   "cell_type": "code",
   "execution_count": 1,
   "metadata": {},
   "outputs": [],
   "source": [
    "import os\n",
    "import time\n",
    "os.environ[\"KERAS_BACKEND\"] = \"plaidml.keras.backend\"\n",
    "\n",
    "os.environ[\"RUNFILES_DIR\"] = \"/Users/rafa/opt/anaconda3/envs/dhdsblend/lib/python3.7/site-packages/plaidml\"\n",
    "# plaidml might exist in different location. Look for \"/usr/local/share/plaidml\" and replace in above path\n",
    "\n",
    "os.environ[\"PLAIDML_NATIVE_PATH\"] = \"/Users/rafa/opt/anaconda3/envs/dhdsblend/lib/libplaidml.dylib\"\n",
    "# libplaidml.dylib might exist in different location. Look for \"/usr/local/lib/libplaidml.dylib\" and replace in above path"
   ]
  },
  {
   "cell_type": "code",
   "execution_count": 59,
   "metadata": {},
   "outputs": [],
   "source": [
    "import IPython.display as ipd\n",
    "import numpy as np\n",
    "import pandas as pd\n",
    "import seaborn as sns\n",
    "\n",
    "import utils\n",
    "\n",
    "import tensorflow as tf\n",
    "\n",
    "# Don't use tensorflow.keras anywhere, instead use keras\n",
    "import keras\n",
    "from keras.datasets import mnist\n",
    "from keras.models import Sequential\n",
    "from keras.layers import Dense, Dropout, Flatten\n",
    "from keras.layers import Conv2D, MaxPooling2D\n",
    "from keras.wrappers.scikit_learn import KerasClassifier\n",
    "from keras import backend as K\n",
    "from keras.utils import to_categorical\n",
    "\n",
    "from matplotlib import pyplot\n",
    "\n",
    "from sklearn.model_selection import train_test_split, KFold\n",
    "from sklearn.metrics import accuracy_score, f1_score, precision_score, recall_score, classification_report, confusion_matrix\n",
    "from sklearn.preprocessing import StandardScaler, RobustScaler, MinMaxScaler\n",
    "from sklearn.metrics import roc_auc_score\n",
    "from keras.callbacks import Callback, EarlyStopping\n",
    "\n",
    "from imblearn.under_sampling import RandomUnderSampler\n",
    "from imblearn.over_sampling import RandomOverSampler"
   ]
  },
  {
   "cell_type": "code",
   "execution_count": 3,
   "metadata": {},
   "outputs": [],
   "source": [
    "# Custom options for visualization\n",
    "pd.set_option('display.max_columns', None)\n",
    "sns.set_theme(style=\"whitegrid\")"
   ]
  },
  {
   "cell_type": "code",
   "execution_count": 4,
   "metadata": {},
   "outputs": [],
   "source": [
    "# Loading Data\n",
    "\n",
    "tracks = utils.load('data/fma_metadata/tracks.csv')\n",
    "genres = utils.load('data/fma_metadata/genres.csv')\n",
    "features_df = utils.load('data/fma_metadata/features.csv')\n",
    "echonest = utils.load('data/fma_metadata/echonest.csv')"
   ]
  },
  {
   "cell_type": "code",
   "execution_count": 5,
   "metadata": {},
   "outputs": [],
   "source": [
    "# Splitting Data between rows with genre_top set and unset\n",
    "\n",
    "tracks_genres_info = tracks['track'][['genre_top', 'genres', 'genres_all']] \n",
    "tracks_genres_info['track_id'] = tracks_genres_info.index\n",
    "\n",
    "null_top_genre_mask_mask = tracks_genres_info.genre_top.isnull()\n",
    "\n",
    "null_top_genre_tracks_df = tracks_genres_info.loc[null_top_genre_mask_mask,:]\n",
    "not_null_top_genre_tracks_df = tracks_genres_info.loc[~null_top_genre_mask_mask,:]"
   ]
  },
  {
   "cell_type": "code",
   "execution_count": 6,
   "metadata": {},
   "outputs": [
    {
     "name": "stderr",
     "output_type": "stream",
     "text": [
      "/Users/rafa/opt/anaconda3/envs/dhdsblend/lib/python3.7/site-packages/ipykernel_launcher.py:4: SettingWithCopyWarning: \n",
      "A value is trying to be set on a copy of a slice from a DataFrame.\n",
      "Try using .loc[row_indexer,col_indexer] = value instead\n",
      "\n",
      "See the caveats in the documentation: https://pandas.pydata.org/pandas-docs/stable/user_guide/indexing.html#returning-a-view-versus-a-copy\n",
      "  after removing the cwd from sys.path.\n",
      "/Users/rafa/opt/anaconda3/envs/dhdsblend/lib/python3.7/site-packages/ipykernel_launcher.py:5: SettingWithCopyWarning: \n",
      "A value is trying to be set on a copy of a slice from a DataFrame.\n",
      "Try using .loc[row_indexer,col_indexer] = value instead\n",
      "\n",
      "See the caveats in the documentation: https://pandas.pydata.org/pandas-docs/stable/user_guide/indexing.html#returning-a-view-versus-a-copy\n",
      "  \"\"\"\n"
     ]
    },
    {
     "data": {
      "text/plain": [
       "track_id   \n",
       "20        0     76\n",
       "          1    103\n",
       "26        0     76\n",
       "          1    103\n",
       "30        0     76\n",
       "              ... \n",
       "155278    1    107\n",
       "155288    0       \n",
       "155320    0     10\n",
       "          1     12\n",
       "          2    169\n",
       "Length: 169266, dtype: object"
      ]
     },
     "execution_count": 6,
     "metadata": {},
     "output_type": "execute_result"
    }
   ],
   "source": [
    "def transform_genres_list_to_str(genres_list):\n",
    "    return \"|\".join([str(x) for x in genres_list])\n",
    "\n",
    "null_top_genre_tracks_df['genres_str'] = null_top_genre_tracks_df.genres.apply(transform_genres_list_to_str)\n",
    "null_top_genre_tracks_df['genres_all_str'] = null_top_genre_tracks_df.genres_all.apply(transform_genres_list_to_str)\n",
    "\n",
    "_df = null_top_genre_tracks_df.set_index('track_id').genres_str.str.split('|', expand=True).stack()\n",
    "\n",
    "_df"
   ]
  },
  {
   "cell_type": "code",
   "execution_count": 9,
   "metadata": {},
   "outputs": [
    {
     "name": "stderr",
     "output_type": "stream",
     "text": [
      "/Users/rafa/opt/anaconda3/envs/dhdsblend/lib/python3.7/site-packages/ipykernel_launcher.py:3: SettingWithCopyWarning: \n",
      "A value is trying to be set on a copy of a slice from a DataFrame.\n",
      "Try using .loc[row_indexer,col_indexer] = value instead\n",
      "\n",
      "See the caveats in the documentation: https://pandas.pydata.org/pandas-docs/stable/user_guide/indexing.html#returning-a-view-versus-a-copy\n",
      "  This is separate from the ipykernel package so we can avoid doing imports until\n"
     ]
    },
    {
     "data": {
      "text/plain": [
       "genre_top                0\n",
       "genres               56976\n",
       "genres_all           56976\n",
       "track_id             56976\n",
       "genres_str           56976\n",
       "genres_all_str       56976\n",
       "derived_genre_top    54745\n",
       "dtype: int64"
      ]
     },
     "execution_count": 9,
     "metadata": {},
     "output_type": "execute_result"
    }
   ],
   "source": [
    "target_genres = dict(zip(list(genres[(genres.parent == 0)].index), list(genres[(genres.parent == 0)].title)))\n",
    "\n",
    "null_top_genre_tracks_df['derived_genre_top'] = null_top_genre_tracks_df.genres.apply(choosing_top_genre, args=(genres,target_genres))\n",
    "\n",
    "(~null_top_genre_tracks_df.isnull()).sum()"
   ]
  },
  {
   "cell_type": "code",
   "execution_count": 10,
   "metadata": {},
   "outputs": [],
   "source": [
    "# Adding derived to a new DF\n",
    "\n",
    "tracks_info_with_derived_top_genre_df = tracks_genres_info.copy()\n",
    "tracks_info_with_derived_top_genre_df[\"_genre_top\"] = ''\n",
    "\n",
    "_df = null_top_genre_tracks_df[~null_top_genre_tracks_df.derived_genre_top.isnull()]\n",
    "\n",
    "for index, row in tracks_genres_info.iterrows():\n",
    "    if isinstance(row.genre_top, str) or (~np.isnan(row.genre_top)):\n",
    "        tracks_info_with_derived_top_genre_df.at[index, '_genre_top'] = row.genre_top\n",
    "    elif index in _df.index:\n",
    "        tracks_info_with_derived_top_genre_df.at[index, '_genre_top'] = _df.at[index,'derived_genre_top']"
   ]
  },
  {
   "cell_type": "code",
   "execution_count": 11,
   "metadata": {},
   "outputs": [
    {
     "name": "stdout",
     "output_type": "stream",
     "text": [
      "106574\n",
      "106574\n"
     ]
    }
   ],
   "source": [
    "tracks_info_with_derived_top_genre_df['duration'] = tracks.track['duration']\n",
    "tracks_info_with_derived_top_genre_df['genre_top'] = tracks_info_with_derived_top_genre_df._genre_top\n",
    "\n",
    "print((~tracks_info_with_derived_top_genre_df.genre_top.isnull()).sum())\n",
    "print((~tracks_info_with_derived_top_genre_df._genre_top.isnull()).sum())"
   ]
  },
  {
   "cell_type": "code",
   "execution_count": 12,
   "metadata": {},
   "outputs": [
    {
     "name": "stdout",
     "output_type": "stream",
     "text": [
      "9355 3774\n"
     ]
    },
    {
     "data": {
      "text/html": [
       "<div>\n",
       "<style scoped>\n",
       "    .dataframe tbody tr th:only-of-type {\n",
       "        vertical-align: middle;\n",
       "    }\n",
       "\n",
       "    .dataframe tbody tr th {\n",
       "        vertical-align: top;\n",
       "    }\n",
       "\n",
       "    .dataframe thead th {\n",
       "        text-align: right;\n",
       "    }\n",
       "</style>\n",
       "<table border=\"1\" class=\"dataframe\">\n",
       "  <thead>\n",
       "    <tr style=\"text-align: right;\">\n",
       "      <th></th>\n",
       "      <th>acousticness</th>\n",
       "      <th>danceability</th>\n",
       "      <th>energy</th>\n",
       "      <th>instrumentalness</th>\n",
       "      <th>liveness</th>\n",
       "      <th>speechiness</th>\n",
       "      <th>tempo</th>\n",
       "      <th>valence</th>\n",
       "      <th>genre_top</th>\n",
       "      <th>duration</th>\n",
       "    </tr>\n",
       "    <tr>\n",
       "      <th>track_id</th>\n",
       "      <th></th>\n",
       "      <th></th>\n",
       "      <th></th>\n",
       "      <th></th>\n",
       "      <th></th>\n",
       "      <th></th>\n",
       "      <th></th>\n",
       "      <th></th>\n",
       "      <th></th>\n",
       "      <th></th>\n",
       "    </tr>\n",
       "  </thead>\n",
       "  <tbody>\n",
       "    <tr>\n",
       "      <th>2</th>\n",
       "      <td>0.416675</td>\n",
       "      <td>0.675894</td>\n",
       "      <td>0.634476</td>\n",
       "      <td>0.010628</td>\n",
       "      <td>0.177647</td>\n",
       "      <td>0.159310</td>\n",
       "      <td>165.922</td>\n",
       "      <td>0.576661</td>\n",
       "      <td>Hip-Hop</td>\n",
       "      <td>168</td>\n",
       "    </tr>\n",
       "    <tr>\n",
       "      <th>3</th>\n",
       "      <td>0.374408</td>\n",
       "      <td>0.528643</td>\n",
       "      <td>0.817461</td>\n",
       "      <td>0.001851</td>\n",
       "      <td>0.105880</td>\n",
       "      <td>0.461818</td>\n",
       "      <td>126.957</td>\n",
       "      <td>0.269240</td>\n",
       "      <td>Hip-Hop</td>\n",
       "      <td>237</td>\n",
       "    </tr>\n",
       "    <tr>\n",
       "      <th>5</th>\n",
       "      <td>0.043567</td>\n",
       "      <td>0.745566</td>\n",
       "      <td>0.701470</td>\n",
       "      <td>0.000697</td>\n",
       "      <td>0.373143</td>\n",
       "      <td>0.124595</td>\n",
       "      <td>100.260</td>\n",
       "      <td>0.621661</td>\n",
       "      <td>Hip-Hop</td>\n",
       "      <td>206</td>\n",
       "    </tr>\n",
       "    <tr>\n",
       "      <th>10</th>\n",
       "      <td>0.951670</td>\n",
       "      <td>0.658179</td>\n",
       "      <td>0.924525</td>\n",
       "      <td>0.965427</td>\n",
       "      <td>0.115474</td>\n",
       "      <td>0.032985</td>\n",
       "      <td>111.562</td>\n",
       "      <td>0.963590</td>\n",
       "      <td>Pop</td>\n",
       "      <td>161</td>\n",
       "    </tr>\n",
       "    <tr>\n",
       "      <th>134</th>\n",
       "      <td>0.452217</td>\n",
       "      <td>0.513238</td>\n",
       "      <td>0.560410</td>\n",
       "      <td>0.019443</td>\n",
       "      <td>0.096567</td>\n",
       "      <td>0.525519</td>\n",
       "      <td>114.290</td>\n",
       "      <td>0.894072</td>\n",
       "      <td>Hip-Hop</td>\n",
       "      <td>207</td>\n",
       "    </tr>\n",
       "  </tbody>\n",
       "</table>\n",
       "</div>"
      ],
      "text/plain": [
       "          acousticness  danceability    energy  instrumentalness  liveness  \\\n",
       "track_id                                                                     \n",
       "2             0.416675      0.675894  0.634476          0.010628  0.177647   \n",
       "3             0.374408      0.528643  0.817461          0.001851  0.105880   \n",
       "5             0.043567      0.745566  0.701470          0.000697  0.373143   \n",
       "10            0.951670      0.658179  0.924525          0.965427  0.115474   \n",
       "134           0.452217      0.513238  0.560410          0.019443  0.096567   \n",
       "\n",
       "          speechiness    tempo   valence genre_top  duration  \n",
       "track_id                                                      \n",
       "2            0.159310  165.922  0.576661   Hip-Hop       168  \n",
       "3            0.461818  126.957  0.269240   Hip-Hop       237  \n",
       "5            0.124595  100.260  0.621661   Hip-Hop       206  \n",
       "10           0.032985  111.562  0.963590       Pop       161  \n",
       "134          0.525519  114.290  0.894072   Hip-Hop       207  "
      ]
     },
     "execution_count": 12,
     "metadata": {},
     "output_type": "execute_result"
    }
   ],
   "source": [
    "track_ids_genre_not_null_and_echonest = list(set(echonest.echonest.audio_features.index) & set(not_null_top_genre_tracks_df.index))\n",
    "track_ids_derived_genre_and_echonest = list(set(echonest.echonest.audio_features.index) & set(null_top_genre_tracks_df.index))\n",
    "\n",
    "print(len(track_ids_genre_not_null_and_echonest), len(track_ids_derived_genre_and_echonest))\n",
    "\n",
    "features = ['acousticness', 'danceability', 'energy', 'instrumentalness', 'liveness', 'speechiness', 'valence', 'tempo', 'duration']\n",
    "\n",
    "original_genre_fetures_df = pd.concat([echonest.echonest.audio_features[echonest.index.isin(track_ids_genre_not_null_and_echonest)], tracks[tracks.index.isin(track_ids_genre_not_null_and_echonest)].track[['genre_top', 'duration']]], 1)\n",
    "original_genre_fetures_df.head()"
   ]
  },
  {
   "cell_type": "code",
   "execution_count": 13,
   "metadata": {},
   "outputs": [
    {
     "data": {
      "text/html": [
       "<div>\n",
       "<style scoped>\n",
       "    .dataframe tbody tr th:only-of-type {\n",
       "        vertical-align: middle;\n",
       "    }\n",
       "\n",
       "    .dataframe tbody tr th {\n",
       "        vertical-align: top;\n",
       "    }\n",
       "\n",
       "    .dataframe thead th {\n",
       "        text-align: right;\n",
       "    }\n",
       "</style>\n",
       "<table border=\"1\" class=\"dataframe\">\n",
       "  <thead>\n",
       "    <tr style=\"text-align: right;\">\n",
       "      <th></th>\n",
       "      <th>acousticness</th>\n",
       "      <th>danceability</th>\n",
       "      <th>energy</th>\n",
       "      <th>instrumentalness</th>\n",
       "      <th>liveness</th>\n",
       "      <th>speechiness</th>\n",
       "      <th>tempo</th>\n",
       "      <th>valence</th>\n",
       "      <th>genre_top</th>\n",
       "      <th>duration</th>\n",
       "    </tr>\n",
       "    <tr>\n",
       "      <th>track_id</th>\n",
       "      <th></th>\n",
       "      <th></th>\n",
       "      <th></th>\n",
       "      <th></th>\n",
       "      <th></th>\n",
       "      <th></th>\n",
       "      <th></th>\n",
       "      <th></th>\n",
       "      <th></th>\n",
       "      <th></th>\n",
       "    </tr>\n",
       "  </thead>\n",
       "  <tbody>\n",
       "    <tr>\n",
       "      <th>236</th>\n",
       "      <td>0.230013</td>\n",
       "      <td>0.848918</td>\n",
       "      <td>0.444921</td>\n",
       "      <td>0.820067</td>\n",
       "      <td>0.162606</td>\n",
       "      <td>0.101744</td>\n",
       "      <td>120.095</td>\n",
       "      <td>0.846313</td>\n",
       "      <td>Electronic</td>\n",
       "      <td>309</td>\n",
       "    </tr>\n",
       "    <tr>\n",
       "      <th>461</th>\n",
       "      <td>0.984355</td>\n",
       "      <td>0.571168</td>\n",
       "      <td>0.319628</td>\n",
       "      <td>0.030623</td>\n",
       "      <td>0.567914</td>\n",
       "      <td>0.050290</td>\n",
       "      <td>107.232</td>\n",
       "      <td>0.788501</td>\n",
       "      <td>Blues</td>\n",
       "      <td>328</td>\n",
       "    </tr>\n",
       "    <tr>\n",
       "      <th>462</th>\n",
       "      <td>0.983755</td>\n",
       "      <td>0.648854</td>\n",
       "      <td>0.273137</td>\n",
       "      <td>0.258233</td>\n",
       "      <td>0.665152</td>\n",
       "      <td>0.033117</td>\n",
       "      <td>115.764</td>\n",
       "      <td>0.517182</td>\n",
       "      <td>Blues</td>\n",
       "      <td>323</td>\n",
       "    </tr>\n",
       "    <tr>\n",
       "      <th>463</th>\n",
       "      <td>0.987198</td>\n",
       "      <td>0.694961</td>\n",
       "      <td>0.309419</td>\n",
       "      <td>0.340356</td>\n",
       "      <td>0.102491</td>\n",
       "      <td>0.039797</td>\n",
       "      <td>115.397</td>\n",
       "      <td>0.554299</td>\n",
       "      <td>Blues</td>\n",
       "      <td>224</td>\n",
       "    </tr>\n",
       "    <tr>\n",
       "      <th>464</th>\n",
       "      <td>0.978804</td>\n",
       "      <td>0.618105</td>\n",
       "      <td>0.381706</td>\n",
       "      <td>0.609562</td>\n",
       "      <td>0.100077</td>\n",
       "      <td>0.067830</td>\n",
       "      <td>114.829</td>\n",
       "      <td>0.622699</td>\n",
       "      <td>Blues</td>\n",
       "      <td>397</td>\n",
       "    </tr>\n",
       "  </tbody>\n",
       "</table>\n",
       "</div>"
      ],
      "text/plain": [
       "          acousticness  danceability    energy  instrumentalness  liveness  \\\n",
       "track_id                                                                     \n",
       "236           0.230013      0.848918  0.444921          0.820067  0.162606   \n",
       "461           0.984355      0.571168  0.319628          0.030623  0.567914   \n",
       "462           0.983755      0.648854  0.273137          0.258233  0.665152   \n",
       "463           0.987198      0.694961  0.309419          0.340356  0.102491   \n",
       "464           0.978804      0.618105  0.381706          0.609562  0.100077   \n",
       "\n",
       "          speechiness    tempo   valence   genre_top  duration  \n",
       "track_id                                                        \n",
       "236          0.101744  120.095  0.846313  Electronic       309  \n",
       "461          0.050290  107.232  0.788501       Blues       328  \n",
       "462          0.033117  115.764  0.517182       Blues       323  \n",
       "463          0.039797  115.397  0.554299       Blues       224  \n",
       "464          0.067830  114.829  0.622699       Blues       397  "
      ]
     },
     "execution_count": 13,
     "metadata": {},
     "output_type": "execute_result"
    }
   ],
   "source": [
    "derived_genre_fetures_df = pd.concat([echonest.echonest.audio_features[echonest.index.isin(track_ids_derived_genre_and_echonest)], tracks_info_with_derived_top_genre_df[tracks_info_with_derived_top_genre_df.index.isin(track_ids_derived_genre_and_echonest)][['genre_top', 'duration']]], 1)\n",
    "derived_genre_fetures_df.head()"
   ]
  },
  {
   "cell_type": "code",
   "execution_count": 14,
   "metadata": {},
   "outputs": [
    {
     "name": "stdout",
     "output_type": "stream",
     "text": [
      "1000 30.575466871261597\n",
      "2000 61.39288282394409\n",
      "3000 91.8781361579895\n",
      "4000 122.28312301635742\n",
      "5000 152.67834901809692\n",
      "6000 183.08112621307373\n",
      "7000 213.54721689224243\n",
      "8000 244.03383898735046\n",
      "9000 274.41983699798584\n",
      "10000 304.8415439128876\n",
      "11000 335.5496530532837\n",
      "12000 367.2384397983551\n",
      "13000 400.09507608413696\n",
      "Extending data took: 404.54425501823425s\n",
      "(13129, 438)\n"
     ]
    }
   ],
   "source": [
    "# Add extra technical features to dataset\n",
    "\n",
    "\n",
    "_features = [\"chroma_cens\", \"chroma_cqt\", \"chroma_stft\", \"mfcc\", \"rmse\", \"spectral_bandwidth\", \"spectral_contrast\", \"spectral_rolloff\", \"tonnetz\", \"zcr\"]\n",
    "_fields = [\"kurtosis\", \"mean\", \"std\", \"median\", \"max\", \"min\"]\n",
    "\n",
    "# Collecting only the needed rows for both datasets\n",
    "audio_features_df  = features_df[features_df.index.isin(list(original_genre_fetures_df.index) + list(derived_genre_fetures_df.index))][_features]\n",
    "\n",
    "# Flatten features\n",
    "\n",
    "tracks_with_extra_audio_features_df = pd.DataFrame(index=audio_features_df.index)\n",
    "\n",
    "## Initializing all needed columns with NaN\n",
    "for index, row in audio_features_df.head(1).iterrows():\n",
    "    for feature in _features:\n",
    "        for field in _fields:\n",
    "            i = 0\n",
    "            for k in row[feature][field]: # channel (if it is channel ?)                \n",
    "                i += 1\n",
    "                tracks_with_extra_audio_features_df[f'{feature}_{field[0:3]}_{i}'] = np.nan\n",
    "\n",
    "# Populating each row with audio analysis feature values\n",
    "start = time.time()\n",
    "_count = 0\n",
    "for index, row in audio_features_df.iterrows():\n",
    "    _count += 1\n",
    "    for feature in _features:\n",
    "        for field in _fields:\n",
    "            i = 0\n",
    "            for k in row[feature][field]: # channel (if it is channel ?)                \n",
    "                i += 1\n",
    "                tracks_with_extra_audio_features_df.at[index, f'{feature}_{field[0:3]}_{i}'] = k                \n",
    "    if _count % 1000 == 0:\n",
    "        print(_count, f'{time.time() - start}')\n",
    "stop = time.time()\n",
    "\n",
    "print(f\"Extending data took: {stop - start}s\")\n",
    "\n",
    "print(tracks_with_extra_audio_features_df.shape)"
   ]
  },
  {
   "cell_type": "code",
   "execution_count": 16,
   "metadata": {},
   "outputs": [
    {
     "name": "stdout",
     "output_type": "stream",
     "text": [
      "(9355, 448)\n"
     ]
    }
   ],
   "source": [
    "extra_audio_genre_df = pd.concat([original_genre_fetures_df, tracks_with_extra_audio_features_df[tracks_with_extra_audio_features_df.index.isin(original_genre_fetures_df.index)]], 1)\n",
    "extra_audio_derived_genre_df = pd.concat([derived_genre_fetures_df, tracks_with_extra_audio_features_df[tracks_with_extra_audio_features_df.index.isin(derived_genre_fetures_df.index)]], 1)\n",
    "\n",
    "print(extra_audio_genre_df.shape)"
   ]
  },
  {
   "cell_type": "code",
   "execution_count": 47,
   "metadata": {},
   "outputs": [],
   "source": [
    "original_genre_data_audio_features = basic_data_preparation(\n",
    "    extra_audio_genre_df, \n",
    "    scaler_class=RobustScaler,\n",
    "    features=extra_audio_genre_df.drop('genre_top', axis=1).columns\n",
    ")"
   ]
  },
  {
   "cell_type": "code",
   "execution_count": 48,
   "metadata": {},
   "outputs": [
    {
     "data": {
      "text/plain": [
       "(7484, 447)"
      ]
     },
     "execution_count": 48,
     "metadata": {},
     "output_type": "execute_result"
    }
   ],
   "source": [
    "original_genre_data_audio_features['X_train'].shape"
   ]
  },
  {
   "cell_type": "code",
   "execution_count": 49,
   "metadata": {},
   "outputs": [
    {
     "data": {
      "text/plain": [
       "14"
      ]
     },
     "execution_count": 49,
     "metadata": {},
     "output_type": "execute_result"
    }
   ],
   "source": [
    "X_train, y_train = (np.array(original_genre_data_audio_features['X_train']), original_genre_data_audio_features['y_train'])\n",
    "\n",
    "X_test, y_test = (np.array(original_genre_data_audio_features['X_test']), original_genre_data_audio_features['y_test'])"
   ]
  },
  {
   "cell_type": "code",
   "execution_count": 55,
   "metadata": {},
   "outputs": [
    {
     "name": "stdout",
     "output_type": "stream",
     "text": [
      "(5351, 447) (5351,)\n",
      "(1338, 447) (1338,)\n"
     ]
    }
   ],
   "source": [
    "_genres_to_study = ['Rock', 'Hip-Hop', 'Folk', 'Blues', 'Classical', 'Instrumental', 'Jazz', 'Old-Time / Historic']\n",
    "\n",
    "# Genre Filters\n",
    "X_train = X_train[y_train.isin(_genres_to_study)]\n",
    "y_train = y_train[y_train.isin(_genres_to_study)]\n",
    "\n",
    "X_test = X_test[y_test.reset_index().genre_top.isin(_genres_to_study)]\n",
    "y_test = y_test[y_test.isin(_genres_to_study)].reset_index().genre_top\n",
    "\n",
    "y_train_le = to_categorical(y_train.cat.codes)\n",
    "y_test_le = to_categorical(y_test.cat.codes)\n",
    "\n",
    "print(X_train.shape, y_train.shape)\n",
    "print(X_test.shape, y_test.shape)"
   ]
  },
  {
   "cell_type": "code",
   "execution_count": 56,
   "metadata": {},
   "outputs": [],
   "source": [
    "eval_metric = tf.keras.metrics.AUC(\n",
    "    num_thresholds=200,\n",
    "    curve=\"PR\",\n",
    "    summation_method=\"interpolation\"\n",
    ")"
   ]
  },
  {
   "cell_type": "code",
   "execution_count": 71,
   "metadata": {},
   "outputs": [],
   "source": [
    "def create_model():\n",
    "\t# create model\n",
    "    model = Sequential()\n",
    "    model.add(Dense(32, input_dim=447, activation='relu'))\n",
    "    model.add(Dense(64, activation='relu'))\n",
    "    model.add(Dropout(0.5))\n",
    "    model.add(Dense(14, activation='softmax'))\n",
    "    # Compile model\n",
    "    model.compile(loss='categorical_crossentropy', optimizer='adam', metrics=['categorical_accuracy', 'categorical_crossentropy'])\n",
    "    return model\n",
    "\n",
    "keras_model = KerasClassifier(build_fn=create_model, epochs=100, batch_size=10, verbose=1)"
   ]
  },
  {
   "cell_type": "code",
   "execution_count": 72,
   "metadata": {},
   "outputs": [
    {
     "name": "stdout",
     "output_type": "stream",
     "text": [
      "Extending data took: 448.8790879249573s\n"
     ]
    }
   ],
   "source": [
    "start = time.time()\n",
    "\n",
    "km = keras_model.fit(X_train, y_train_le, epochs=100, verbose=0)\n",
    "\n",
    "stop = time.time()\n",
    "\n",
    "print(f\"Extending data took: {stop - start}s\")\n"
   ]
  },
  {
   "cell_type": "code",
   "execution_count": 73,
   "metadata": {},
   "outputs": [
    {
     "name": "stdout",
     "output_type": "stream",
     "text": [
      "1338/1338 [==============================] - 0s 267us/step\n",
      "              precision    recall  f1-score   support\n",
      "\n",
      "           0       0.50      0.38      0.43        13\n",
      "           1       0.87      0.87      0.87        53\n",
      "           6       0.71      0.65      0.68       175\n",
      "           7       0.81      0.80      0.80       182\n",
      "           8       0.55      0.35      0.43        17\n",
      "          10       0.42      0.46      0.44        48\n",
      "          11       0.99      0.93      0.96        71\n",
      "          13       0.87      0.90      0.88       779\n",
      "\n",
      "    accuracy                           0.82      1338\n",
      "   macro avg       0.71      0.67      0.69      1338\n",
      "weighted avg       0.82      0.82      0.82      1338\n",
      "\n"
     ]
    },
    {
     "data": {
      "image/png": "[encoded data removed]",
      "text/plain": [
       "<Figure size 1008x648 with 2 Axes>"
      ]
     },
     "metadata": {},
     "output_type": "display_data"
    }
   ],
   "source": [
    "y_train_num = y_train.cat.codes.astype('int32')\n",
    "y_test_num = y_test.cat.codes.astype('int32')\n",
    "\n",
    "oredered_genres = list(y_train.unique())\n",
    "oredered_genres.sort()\n",
    "\n",
    "predictions = list(keras_model.predict(X_test))\n",
    "print(classification_report(y_test_num, predictions))\n",
    "\n",
    "cm = confusion_matrix(y_test_num, predictions)\n",
    "\n",
    "custom_plot_confusion_matrix(cm, genre_list=oredered_genres)"
   ]
  },
  {
   "cell_type": "code",
   "execution_count": null,
   "metadata": {},
   "outputs": [],
   "source": []
  },
  {
   "cell_type": "code",
   "execution_count": null,
   "metadata": {},
   "outputs": [],
   "source": []
  },
  {
   "cell_type": "code",
   "execution_count": null,
   "metadata": {},
   "outputs": [],
   "source": []
  },
  {
   "cell_type": "code",
   "execution_count": null,
   "metadata": {},
   "outputs": [],
   "source": []
  },
  {
   "cell_type": "code",
   "execution_count": null,
   "metadata": {},
   "outputs": [],
   "source": []
  },
  {
   "cell_type": "code",
   "execution_count": null,
   "metadata": {},
   "outputs": [],
   "source": []
  },
  {
   "cell_type": "code",
   "execution_count": null,
   "metadata": {},
   "outputs": [],
   "source": []
  },
  {
   "cell_type": "code",
   "execution_count": null,
   "metadata": {},
   "outputs": [],
   "source": []
  },
  {
   "cell_type": "code",
   "execution_count": null,
   "metadata": {},
   "outputs": [],
   "source": []
  },
  {
   "cell_type": "code",
   "execution_count": null,
   "metadata": {},
   "outputs": [],
   "source": []
  },
  {
   "cell_type": "code",
   "execution_count": 8,
   "metadata": {},
   "outputs": [],
   "source": [
    "def custom_plot_confusion_matrix(confusion_matrix, genre_list=['Blues', 'Hip-Hop','Jazz', 'Pop', 'Rock'], vmax=300):\n",
    "    df_cm = pd.DataFrame(confusion_matrix, index = genre_list, columns = genre_list)\n",
    "    pyplot.figure(figsize = (14,9))\n",
    "    sns.heatmap(df_cm, annot=True, fmt='g', cmap=\"Blues\", vmax=vmax)\n",
    "\n",
    "def choosing_top_genre(genres_list, genres_df, target_genres): \n",
    "    for genre_id in genres_list:\n",
    "        return target_genres[genres_df.loc[genre_id,'top_level']]            \n",
    "    return np.NaN\n",
    "\n",
    "def basic_data_preparation(df, scaler_class=StandardScaler, features=[], extra_data=None):\n",
    "    \n",
    "    X = df.drop('genre_top', axis=1)\n",
    "    y = df['genre_top']\n",
    "\n",
    "    scaler = scaler_class()\n",
    "    X = scaler.fit_transform(X)\n",
    "    X_train, X_test, y_train, y_test = train_test_split(X, y, test_size=0.20, random_state=7, stratify=y)\n",
    "\n",
    "    X_train_sc_df = pd.DataFrame(X_train, columns = features)\n",
    "    X_test_sc_df = pd.DataFrame(X_test, columns = features)\n",
    "    \n",
    "    if extra_data is not None:\n",
    "        scaled_extra_data = scaler.transform(extra_data.drop('genre_top', axis=1))\n",
    "        scaled_extra_data_df = pd.DataFrame(scaled_extra_data, columns = features)\n",
    "        #print(scaled_extra_data_df.tail(10))\n",
    "        scaled_extra_data_df = pd.concat([scaled_extra_data_df, extra_data.genre_top.reset_index().drop('track_id', axis=1)], axis=1)\n",
    "        #print(scaled_extra_data_df.tail(10))\n",
    "    return {\n",
    "        \"X_train\": X_train_sc_df,\n",
    "        \"y_train\": y_train,\n",
    "        \"X_test\":  X_test_sc_df,\n",
    "        \"y_test\":  y_test,\n",
    "        \"extra_data\": scaled_extra_data_df if extra_data is not None else None\n",
    "    }"
   ]
  },
  {
   "cell_type": "code",
   "execution_count": 60,
   "metadata": {},
   "outputs": [],
   "source": [
    "def auc_roc(y_true, y_pred):\n",
    "    # any tensorflow metric\n",
    "    value, update_op = tf.contrib.metrics.streaming_auc(y_pred, y_true)\n",
    "\n",
    "    # find all variables created for this metric\n",
    "    metric_vars = [i for i in tf.local_variables() if 'auc_roc' in i.name.split('/')[1]]\n",
    "\n",
    "    # Add metric variables to GLOBAL_VARIABLES collection.\n",
    "    # They will be initialized for new session.\n",
    "    for v in metric_vars:\n",
    "        tf.add_to_collection(tf.GraphKeys.GLOBAL_VARIABLES, v)\n",
    "\n",
    "    # force to update metric values\n",
    "    with tf.control_dependencies([update_op]):\n",
    "        value = tf.identity(value)\n",
    "        return value\n"
   ]
  },
  {
   "cell_type": "code",
   "execution_count": null,
   "metadata": {},
   "outputs": [],
   "source": []
  },
  {
   "cell_type": "code",
   "execution_count": null,
   "metadata": {},
   "outputs": [],
   "source": []
  }
 ],
 "metadata": {
  "kernelspec": {
   "display_name": "Python 3",
   "language": "python",
   "name": "python3"
  },
  "language_info": {
   "codemirror_mode": {
    "name": "ipython",
    "version": 3
   },
   "file_extension": ".py",
   "mimetype": "text/x-python",
   "name": "python",
   "nbconvert_exporter": "python",
   "pygments_lexer": "ipython3",
   "version": "3.7.9"
  }
 },
 "nbformat": 4,
 "nbformat_minor": 4
}
